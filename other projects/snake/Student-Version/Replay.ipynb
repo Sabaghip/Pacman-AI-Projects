{
 "cells": [
  {
   "cell_type": "code",
   "execution_count": 1,
   "metadata": {
    "ExecuteTime": {
     "end_time": "2023-12-18T09:28:00.922555Z",
     "start_time": "2023-12-18T09:28:00.513158Z"
    }
   },
   "outputs": [
    {
     "name": "stdout",
     "output_type": "stream",
     "text": [
      "pygame 2.5.2 (SDL 2.28.3, Python 3.9.0)\n",
      "Hello from the pygame community. https://www.pygame.org/contribute.html\n"
     ]
    },
    {
     "ename": "FileNotFoundError",
     "evalue": "[Errno 2] No such file or directory: './model/Snake_3000'",
     "output_type": "error",
     "traceback": [
      "\u001b[1;31m---------------------------------------------------------------------------\u001b[0m",
      "\u001b[1;31mFileNotFoundError\u001b[0m                         Traceback (most recent call last)",
      "Cell \u001b[1;32mIn[1], line 15\u001b[0m\n\u001b[0;32m     12\u001b[0m snake_name \u001b[38;5;241m=\u001b[39m \u001b[38;5;124m'\u001b[39m\u001b[38;5;124mSnake_3000\u001b[39m\u001b[38;5;124m'\u001b[39m\n\u001b[0;32m     14\u001b[0m model \u001b[38;5;241m=\u001b[39m QNetwork(input_dim\u001b[38;5;241m=\u001b[39m\u001b[38;5;241m10\u001b[39m, hidden_dim\u001b[38;5;241m=\u001b[39m\u001b[38;5;241m20\u001b[39m, output_dim\u001b[38;5;241m=\u001b[39m\u001b[38;5;241m5\u001b[39m)\n\u001b[1;32m---> 15\u001b[0m model\u001b[38;5;241m.\u001b[39mload_state_dict(\u001b[43mtorch\u001b[49m\u001b[38;5;241;43m.\u001b[39;49m\u001b[43mload\u001b[49m\u001b[43m(\u001b[49m\u001b[38;5;124;43m'\u001b[39;49m\u001b[38;5;124;43m./model/\u001b[39;49m\u001b[38;5;124;43m'\u001b[39;49m\u001b[43m \u001b[49m\u001b[38;5;241;43m+\u001b[39;49m\u001b[43m \u001b[49m\u001b[43msnake_name\u001b[49m\u001b[43m)\u001b[49m)\n\u001b[0;32m     17\u001b[0m board \u001b[38;5;241m=\u001b[39m GameEnvironment(grid_size, nothing\u001b[38;5;241m=\u001b[39m\u001b[38;5;241m0\u001b[39m, dead\u001b[38;5;241m=\u001b[39m\u001b[38;5;241m-\u001b[39m\u001b[38;5;241m1\u001b[39m, apple\u001b[38;5;241m=\u001b[39m\u001b[38;5;241m1\u001b[39m)\n\u001b[0;32m     18\u001b[0m window_width \u001b[38;5;241m=\u001b[39m grid_size \u001b[38;5;241m*\u001b[39m block_size \u001b[38;5;241m*\u001b[39m \u001b[38;5;241m2\u001b[39m\n",
      "File \u001b[1;32mc:\\Users\\parsa\\AppData\\Local\\Programs\\Python\\Python39\\lib\\site-packages\\torch\\serialization.py:791\u001b[0m, in \u001b[0;36mload\u001b[1;34m(f, map_location, pickle_module, weights_only, **pickle_load_args)\u001b[0m\n\u001b[0;32m    788\u001b[0m \u001b[38;5;28;01mif\u001b[39;00m \u001b[38;5;124m'\u001b[39m\u001b[38;5;124mencoding\u001b[39m\u001b[38;5;124m'\u001b[39m \u001b[38;5;129;01mnot\u001b[39;00m \u001b[38;5;129;01min\u001b[39;00m pickle_load_args\u001b[38;5;241m.\u001b[39mkeys():\n\u001b[0;32m    789\u001b[0m     pickle_load_args[\u001b[38;5;124m'\u001b[39m\u001b[38;5;124mencoding\u001b[39m\u001b[38;5;124m'\u001b[39m] \u001b[38;5;241m=\u001b[39m \u001b[38;5;124m'\u001b[39m\u001b[38;5;124mutf-8\u001b[39m\u001b[38;5;124m'\u001b[39m\n\u001b[1;32m--> 791\u001b[0m \u001b[38;5;28;01mwith\u001b[39;00m \u001b[43m_open_file_like\u001b[49m\u001b[43m(\u001b[49m\u001b[43mf\u001b[49m\u001b[43m,\u001b[49m\u001b[43m \u001b[49m\u001b[38;5;124;43m'\u001b[39;49m\u001b[38;5;124;43mrb\u001b[39;49m\u001b[38;5;124;43m'\u001b[39;49m\u001b[43m)\u001b[49m \u001b[38;5;28;01mas\u001b[39;00m opened_file:\n\u001b[0;32m    792\u001b[0m     \u001b[38;5;28;01mif\u001b[39;00m _is_zipfile(opened_file):\n\u001b[0;32m    793\u001b[0m         \u001b[38;5;66;03m# The zipfile reader is going to advance the current file position.\u001b[39;00m\n\u001b[0;32m    794\u001b[0m         \u001b[38;5;66;03m# If we want to actually tail call to torch.jit.load, we need to\u001b[39;00m\n\u001b[0;32m    795\u001b[0m         \u001b[38;5;66;03m# reset back to the original position.\u001b[39;00m\n\u001b[0;32m    796\u001b[0m         orig_position \u001b[38;5;241m=\u001b[39m opened_file\u001b[38;5;241m.\u001b[39mtell()\n",
      "File \u001b[1;32mc:\\Users\\parsa\\AppData\\Local\\Programs\\Python\\Python39\\lib\\site-packages\\torch\\serialization.py:271\u001b[0m, in \u001b[0;36m_open_file_like\u001b[1;34m(name_or_buffer, mode)\u001b[0m\n\u001b[0;32m    269\u001b[0m \u001b[38;5;28;01mdef\u001b[39;00m \u001b[38;5;21m_open_file_like\u001b[39m(name_or_buffer, mode):\n\u001b[0;32m    270\u001b[0m     \u001b[38;5;28;01mif\u001b[39;00m _is_path(name_or_buffer):\n\u001b[1;32m--> 271\u001b[0m         \u001b[38;5;28;01mreturn\u001b[39;00m \u001b[43m_open_file\u001b[49m\u001b[43m(\u001b[49m\u001b[43mname_or_buffer\u001b[49m\u001b[43m,\u001b[49m\u001b[43m \u001b[49m\u001b[43mmode\u001b[49m\u001b[43m)\u001b[49m\n\u001b[0;32m    272\u001b[0m     \u001b[38;5;28;01melse\u001b[39;00m:\n\u001b[0;32m    273\u001b[0m         \u001b[38;5;28;01mif\u001b[39;00m \u001b[38;5;124m'\u001b[39m\u001b[38;5;124mw\u001b[39m\u001b[38;5;124m'\u001b[39m \u001b[38;5;129;01min\u001b[39;00m mode:\n",
      "File \u001b[1;32mc:\\Users\\parsa\\AppData\\Local\\Programs\\Python\\Python39\\lib\\site-packages\\torch\\serialization.py:252\u001b[0m, in \u001b[0;36m_open_file.__init__\u001b[1;34m(self, name, mode)\u001b[0m\n\u001b[0;32m    251\u001b[0m \u001b[38;5;28;01mdef\u001b[39;00m \u001b[38;5;21m__init__\u001b[39m(\u001b[38;5;28mself\u001b[39m, name, mode):\n\u001b[1;32m--> 252\u001b[0m     \u001b[38;5;28msuper\u001b[39m()\u001b[38;5;241m.\u001b[39m\u001b[38;5;21m__init__\u001b[39m(\u001b[38;5;28;43mopen\u001b[39;49m\u001b[43m(\u001b[49m\u001b[43mname\u001b[49m\u001b[43m,\u001b[49m\u001b[43m \u001b[49m\u001b[43mmode\u001b[49m\u001b[43m)\u001b[49m)\n",
      "\u001b[1;31mFileNotFoundError\u001b[0m: [Errno 2] No such file or directory: './model/Snake_3000'"
     ]
    }
   ],
   "source": [
    "import pygame\n",
    "import numpy as np\n",
    "from Game import GameEnvironment\n",
    "from model import QNetwork, get_network_input\n",
    "import torch\n",
    "import cv2\n",
    "\n",
    "grid_size = 23 \n",
    "framerate = 10\n",
    "block_size = 30 \n",
    "\n",
    "snake_name = 'Snake_3000'\n",
    "\n",
    "model = QNetwork(input_dim=10, hidden_dim=20, output_dim=5)\n",
    "model.load_state_dict(torch.load('./model/' + snake_name))\n",
    "\n",
    "board = GameEnvironment(grid_size, nothing=0, dead=-1, apple=1)\n",
    "window_width = grid_size * block_size * 2\n",
    "window_height = grid_size * block_size\n",
    "\n",
    "pygame.init()\n",
    "win = pygame.display.set_mode((window_width, window_height))\n",
    "pygame.display.set_caption(\"snake\")\n",
    "font = pygame.font.SysFont('Helvetica', 14)\n",
    "clock = pygame.time.Clock()\n",
    "\n",
    "VIDEO = []\n",
    "\n",
    "def draw_board(snake, apple):\n",
    "    win.fill((0,0,0))\n",
    "    for pos in snake.prev_pos:\n",
    "        pygame.draw.rect(win, (0,255,0), (pos[0]*block_size, pos[1]*block_size, block_size, block_size))\n",
    "    pygame.draw.rect(win, (255, 0, 0), (apple.pos[0]*block_size, apple.pos[1]*block_size, block_size, block_size))\n",
    "\n",
    "runGame = True\n",
    "\n",
    "prev_len_of_snake = 0\n",
    "\n",
    "while runGame:\n",
    "    clock.tick(framerate)\n",
    "    \n",
    "    state_0 = get_network_input(board.snake, board.apple)\n",
    "    state = model(state_0)\n",
    "    \n",
    "    action = torch.argmax(state)\n",
    "    \n",
    "    reward, done, len_of_snake = board.update_board_state(action)\n",
    "    draw_board(board.snake, board.apple)\n",
    "    \n",
    "    len_snake_text = font.render('          LEN OF SNAKE: ' + str(len_of_snake), False, (255, 255, 255))\n",
    "    prev_len_snake_text = font.render('          LEN OF PREVIOUS SNAKE: ' + str(prev_len_of_snake), False, (255, 255, 255))\n",
    "    \n",
    "    x_pos= int(0.75 * window_width)\n",
    "    win.blit(len_snake_text, (x_pos, 40))\n",
    "    win.blit(prev_len_snake_text, (x_pos, 80))\n",
    "        \n",
    "    VIDEO.append(pygame.image.tostring(win, 'RGB', False))     \n",
    "    \n",
    "    for event in pygame.event.get():\n",
    "        if event.type==pygame.KEYDOWN and event.key == pygame.K_ESCAPE:   \n",
    "            runGame = False\n",
    "            \n",
    "    keys = pygame.key.get_pressed()\n",
    "    if keys[pygame.K_r]:\n",
    "        paused = True\n",
    "        while paused:\n",
    "            clock.tick(10)\n",
    "            pygame.event.pump()\n",
    "            for event in pygame.event.get():\n",
    "                if event.type == pygame.KEYDOWN:\n",
    "                    paused = False\n",
    "    \n",
    "    pygame.display.update()\n",
    "    \n",
    "    if board.game_over:\n",
    "        prev_len_of_snake = len_of_snake\n",
    "        board.reset_game()\n",
    "\n",
    "fourcc = cv2.VideoWriter_fourcc(*'MPV4')\n",
    "output_name = 'output_' + snake_name + '.mp4'\n",
    "video_mp4 = cv2.VideoWriter(output_name,fourcc, 20.0, (window_width, window_height))        \n",
    "    \n",
    "for image in VIDEO:\n",
    "    \n",
    "    image = np.frombuffer(image, np.uint8).reshape(window_height, window_width, 3)\n",
    "    image = cv2.cvtColor(image, cv2.COLOR_RGBA2BGR)\n",
    "    video_mp4.write(image)\n",
    "\n",
    "cv2.destroyAllWindows()\n",
    "video_mp4.release()\n",
    "    \n",
    "pygame.quit()            "
   ]
  }
 ],
 "metadata": {
  "kernelspec": {
   "display_name": "Python 3 (ipykernel)",
   "language": "python",
   "name": "python3"
  },
  "language_info": {
   "codemirror_mode": {
    "name": "ipython",
    "version": 3
   },
   "file_extension": ".py",
   "mimetype": "text/x-python",
   "name": "python",
   "nbconvert_exporter": "python",
   "pygments_lexer": "ipython3",
   "version": "3.9.0"
  }
 },
 "nbformat": 4,
 "nbformat_minor": 2
}
